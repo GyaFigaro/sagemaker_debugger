{
 "cells": [
  {
   "cell_type": "code",
   "execution_count": 3,
   "metadata": {},
   "outputs": [],
   "source": [
    "import smdebug.pytorch as smd\n",
    "import numpy as np\n",
    "import matplotlib.pyplot as plt"
   ]
  },
  {
   "cell_type": "code",
   "execution_count": 13,
   "metadata": {},
   "outputs": [
    {
     "name": "stdout",
     "output_type": "stream",
     "text": [
      "[1000, 1100, 1200, 1300, 1400, 1500, 1600, 1700, 1800]\n"
     ]
    }
   ],
   "source": [
    "trial = smd.create_trial(path=\"./tmp/testing/demo\")\n",
    "epoch = 1\n",
    "steps = trial.steps(mode=smd.modes.TRAIN)[(int)(938 * epoch / 100) + 1:]\n",
    "print(steps)"
   ]
  },
  {
   "cell_type": "code",
   "execution_count": null,
   "metadata": {},
   "outputs": [],
   "source": [
    "debug()"
   ]
  },
  {
   "cell_type": "code",
   "execution_count": null,
   "metadata": {},
   "outputs": [],
   "source": [
    "trial = smd.create_trial(path=\"./tmp2/testing/demo\")"
   ]
  },
  {
   "cell_type": "code",
   "execution_count": null,
   "metadata": {},
   "outputs": [],
   "source": [
    "from rule.rule12to15 import SigmondSaturationRule\n",
    "\n",
    "rule_15 = SigmondSaturationRule(base_trial=trial)\n",
    "rule_15.work()"
   ]
  },
  {
   "cell_type": "code",
   "execution_count": null,
   "metadata": {},
   "outputs": [],
   "source": [
    "from rule.rule12to15 import TanhSaturationRule\n",
    "\n",
    "rule_16 = TanhSaturationRule(base_trial=trial)\n",
    "rule_16.work()"
   ]
  },
  {
   "cell_type": "code",
   "execution_count": null,
   "metadata": {},
   "outputs": [],
   "source": [
    "trial = smd.create_trial(path=\"./tmp/testing/demo\")"
   ]
  },
  {
   "cell_type": "code",
   "execution_count": null,
   "metadata": {},
   "outputs": [],
   "source": [
    "from rule.rule12to15 import AllValuesZeroRule\n",
    "\n",
    "rule_11 = AllValuesZeroRule(base_trial=trial)\n",
    "rule_11.work()"
   ]
  },
  {
   "cell_type": "code",
   "execution_count": null,
   "metadata": {},
   "outputs": [],
   "source": [
    "from rule.rule12to15 import DeadReluRule\n",
    "\n",
    "rule_14 = DeadReluRule(base_trial=trial)\n",
    "rule_14.work()"
   ]
  },
  {
   "cell_type": "code",
   "execution_count": null,
   "metadata": {},
   "outputs": [],
   "source": [
    "from rule.rule12to15 import SmallVarianceRule\n",
    "\n",
    "rule_12 = SmallVarianceRule(base_trial=trial, min_threshold=0.0001)\n",
    "rule_12.work()"
   ]
  },
  {
   "cell_type": "code",
   "execution_count": null,
   "metadata": {},
   "outputs": [],
   "source": [
    "from rule.rule12to15 import ValuesUnchangedRule\n",
    "\n",
    "rule_13 = ValuesUnchangedRule(base_trial=trial)\n",
    "rule_13.work()"
   ]
  }
 ],
 "metadata": {
  "kernelspec": {
   "display_name": "Python 3.10.4 64-bit",
   "language": "python",
   "name": "python3"
  },
  "language_info": {
   "codemirror_mode": {
    "name": "ipython",
    "version": 3
   },
   "file_extension": ".py",
   "mimetype": "text/x-python",
   "name": "python",
   "nbconvert_exporter": "python",
   "pygments_lexer": "ipython3",
   "version": "3.10.6"
  },
  "orig_nbformat": 4,
  "vscode": {
   "interpreter": {
    "hash": "916dbcbb3f70747c44a77c7bcd40155683ae19c65e1c03b4aa3499c5328201f1"
   }
  }
 },
 "nbformat": 4,
 "nbformat_minor": 2
}
