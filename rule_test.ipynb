{
 "cells": [
  {
   "cell_type": "code",
   "execution_count": 1,
   "metadata": {},
   "outputs": [
    {
     "name": "stdout",
     "output_type": "stream",
     "text": [
      "[2022-10-15 18:35:51.350 gya-figaro:14538 INFO utils.py:27] RULE_JOB_STOP_SIGNAL_FILENAME: None\n",
      "[2022-10-15 18:35:51.399 gya-figaro:14538 INFO profiler_config_parser.py:111] Unable to find config at /opt/ml/input/config/profilerconfig.json. Profiler is disabled.\n"
     ]
    }
   ],
   "source": [
    "import smdebug.pytorch as smd\n",
    "import numpy as np\n",
    "import matplotlib.pyplot as plt\n",
    "from rule.rule_run import debug"
   ]
  },
  {
   "cell_type": "code",
   "execution_count": 2,
   "metadata": {},
   "outputs": [
    {
     "name": "stdout",
     "output_type": "stream",
     "text": [
      "[2022-10-15 18:35:53.413 gya-figaro:14538 INFO local_trial.py:35] Loading trial demo at path ./tmp/testing/demo\n"
     ]
    },
    {
     "ename": "KeyboardInterrupt",
     "evalue": "",
     "output_type": "error",
     "traceback": [
      "\u001b[0;31m---------------------------------------------------------------------------\u001b[0m",
      "\u001b[0;31mKeyboardInterrupt\u001b[0m                         Traceback (most recent call last)",
      "\u001b[1;32m/home/figaro/demo/sagemaker_debugger/rule_test.ipynb Cell 2\u001b[0m in \u001b[0;36m<cell line: 1>\u001b[0;34m()\u001b[0m\n\u001b[0;32m----> <a href='vscode-notebook-cell://ssh-remote%2B7b22686f73744e616d65223a226d795562756e7475227d/home/figaro/demo/sagemaker_debugger/rule_test.ipynb#W1sdnNjb2RlLXJlbW90ZQ%3D%3D?line=0'>1</a>\u001b[0m trial \u001b[39m=\u001b[39m smd\u001b[39m.\u001b[39;49mcreate_trial(path\u001b[39m=\u001b[39;49m\u001b[39m\"\u001b[39;49m\u001b[39m./tmp/testing/demo\u001b[39;49m\u001b[39m\"\u001b[39;49m)\n\u001b[1;32m      <a href='vscode-notebook-cell://ssh-remote%2B7b22686f73744e616d65223a226d795562756e7475227d/home/figaro/demo/sagemaker_debugger/rule_test.ipynb#W1sdnNjb2RlLXJlbW90ZQ%3D%3D?line=1'>2</a>\u001b[0m trial\u001b[39m.\u001b[39msteps()\n",
      "File \u001b[0;32m/usr/local/lib/python3.10/dist-packages/smdebug/trials/utils.py:25\u001b[0m, in \u001b[0;36mcreate_trial\u001b[0;34m(path, name, profiler, output_dir, **kwargs)\u001b[0m\n\u001b[1;32m     23\u001b[0m     \u001b[39mreturn\u001b[39;00m S3Trial(name\u001b[39m=\u001b[39mname, bucket_name\u001b[39m=\u001b[39mbucket_name, prefix_name\u001b[39m=\u001b[39mprefix_name, \u001b[39m*\u001b[39m\u001b[39m*\u001b[39mkwargs)\n\u001b[1;32m     24\u001b[0m \u001b[39melse\u001b[39;00m:\n\u001b[0;32m---> 25\u001b[0m     \u001b[39mreturn\u001b[39;00m LocalTrial(name\u001b[39m=\u001b[39;49mname, dirname\u001b[39m=\u001b[39;49mpath, \u001b[39m*\u001b[39;49m\u001b[39m*\u001b[39;49mkwargs)\n",
      "File \u001b[0;32m/usr/local/lib/python3.10/dist-packages/smdebug/trials/local_trial.py:36\u001b[0m, in \u001b[0;36mLocalTrial.__init__\u001b[0;34m(self, name, dirname, range_steps, parallel, check, index_mode, cache)\u001b[0m\n\u001b[1;32m     34\u001b[0m \u001b[39mself\u001b[39m\u001b[39m.\u001b[39mindex_reader \u001b[39m=\u001b[39m LocalIndexReader(\u001b[39mself\u001b[39m\u001b[39m.\u001b[39mpath)\n\u001b[1;32m     35\u001b[0m \u001b[39mself\u001b[39m\u001b[39m.\u001b[39mlogger\u001b[39m.\u001b[39minfo(\u001b[39mf\u001b[39m\u001b[39m\"\u001b[39m\u001b[39mLoading trial \u001b[39m\u001b[39m{\u001b[39;00mname\u001b[39m}\u001b[39;00m\u001b[39m at path \u001b[39m\u001b[39m{\u001b[39;00m\u001b[39mself\u001b[39m\u001b[39m.\u001b[39mtrial_dir\u001b[39m}\u001b[39;00m\u001b[39m\"\u001b[39m)\n\u001b[0;32m---> 36\u001b[0m \u001b[39mself\u001b[39;49m\u001b[39m.\u001b[39;49m_load_collections()\n\u001b[1;32m     37\u001b[0m \u001b[39mself\u001b[39m\u001b[39m.\u001b[39mrefresh_data()\n",
      "File \u001b[0;32m/usr/local/lib/python3.10/dist-packages/smdebug/trials/trial.py:168\u001b[0m, in \u001b[0;36mTrial._load_collections\u001b[0;34m(self)\u001b[0m\n\u001b[1;32m    165\u001b[0m                 \u001b[39mraise\u001b[39;00m MissingCollectionFiles\n\u001b[1;32m    167\u001b[0m _fetch()\n\u001b[0;32m--> 168\u001b[0m _wait_for_collection_files(\u001b[39m1\u001b[39;49m)  \u001b[39m# wait for the first collection file\u001b[39;00m\n\u001b[1;32m    169\u001b[0m \u001b[39mself\u001b[39m\u001b[39m.\u001b[39m_read_collections(collection_files)\n\u001b[1;32m    170\u001b[0m _wait_for_collection_files(\u001b[39mself\u001b[39m\u001b[39m.\u001b[39mnum_workers)  \u001b[39m# wait for all the collection files\u001b[39;00m\n",
      "File \u001b[0;32m/usr/local/lib/python3.10/dist-packages/smdebug/trials/trial.py:160\u001b[0m, in \u001b[0;36mTrial._load_collections.<locals>._wait_for_collection_files\u001b[0;34m(number_of_collection_file_to_wait_for)\u001b[0m\n\u001b[1;32m    158\u001b[0m \u001b[39mdef\u001b[39;00m \u001b[39m_wait_for_collection_files\u001b[39m(number_of_collection_file_to_wait_for):\n\u001b[1;32m    159\u001b[0m     \u001b[39mwhile\u001b[39;00m \u001b[39mlen\u001b[39m(collection_files) \u001b[39m<\u001b[39m number_of_collection_file_to_wait_for:\n\u001b[0;32m--> 160\u001b[0m         time\u001b[39m.\u001b[39;49msleep(\u001b[39m2\u001b[39;49m)\n\u001b[1;32m    161\u001b[0m         _fetch()\n\u001b[1;32m    162\u001b[0m         \u001b[39mif\u001b[39;00m has_training_ended(\u001b[39mself\u001b[39m\u001b[39m.\u001b[39mpath):\n",
      "\u001b[0;31mKeyboardInterrupt\u001b[0m: "
     ]
    }
   ],
   "source": [
    "trial = smd.create_trial(path=\"./tmp/testing/demo\")\n",
    "trial.steps()"
   ]
  },
  {
   "cell_type": "code",
   "execution_count": null,
   "metadata": {},
   "outputs": [],
   "source": [
    "debug()"
   ]
  },
  {
   "cell_type": "code",
   "execution_count": null,
   "metadata": {},
   "outputs": [],
   "source": [
    "trial = smd.create_trial(path=\"./tmp2/testing/demo\")"
   ]
  },
  {
   "cell_type": "code",
   "execution_count": null,
   "metadata": {},
   "outputs": [],
   "source": [
    "from rule.rule12to15 import SigmondSaturationRule\n",
    "\n",
    "rule_15 = SigmondSaturationRule(base_trial=trial)\n",
    "rule_15.work()"
   ]
  },
  {
   "cell_type": "code",
   "execution_count": null,
   "metadata": {},
   "outputs": [],
   "source": [
    "from rule.rule12to15 import TanhSaturationRule\n",
    "\n",
    "rule_16 = TanhSaturationRule(base_trial=trial)\n",
    "rule_16.work()"
   ]
  },
  {
   "cell_type": "code",
   "execution_count": null,
   "metadata": {},
   "outputs": [],
   "source": [
    "trial = smd.create_trial(path=\"./tmp/testing/demo\")"
   ]
  },
  {
   "cell_type": "code",
   "execution_count": null,
   "metadata": {},
   "outputs": [],
   "source": [
    "from rule.rule12to15 import AllValuesZeroRule\n",
    "\n",
    "rule_11 = AllValuesZeroRule(base_trial=trial)\n",
    "rule_11.work()"
   ]
  },
  {
   "cell_type": "code",
   "execution_count": null,
   "metadata": {},
   "outputs": [],
   "source": [
    "from rule.rule12to15 import DeadReluRule\n",
    "\n",
    "rule_14 = DeadReluRule(base_trial=trial)\n",
    "rule_14.work()"
   ]
  },
  {
   "cell_type": "code",
   "execution_count": null,
   "metadata": {},
   "outputs": [],
   "source": [
    "from rule.rule12to15 import SmallVarianceRule\n",
    "\n",
    "rule_12 = SmallVarianceRule(base_trial=trial, min_threshold=0.0001)\n",
    "rule_12.work()"
   ]
  },
  {
   "cell_type": "code",
   "execution_count": null,
   "metadata": {},
   "outputs": [],
   "source": [
    "from rule.rule12to15 import ValuesUnchangedRule\n",
    "\n",
    "rule_13 = ValuesUnchangedRule(base_trial=trial)\n",
    "rule_13.work()"
   ]
  }
 ],
 "metadata": {
  "kernelspec": {
   "display_name": "Python 3.10.4 64-bit",
   "language": "python",
   "name": "python3"
  },
  "language_info": {
   "codemirror_mode": {
    "name": "ipython",
    "version": 3
   },
   "file_extension": ".py",
   "mimetype": "text/x-python",
   "name": "python",
   "nbconvert_exporter": "python",
   "pygments_lexer": "ipython3",
   "version": "3.10.4"
  },
  "orig_nbformat": 4,
  "vscode": {
   "interpreter": {
    "hash": "916dbcbb3f70747c44a77c7bcd40155683ae19c65e1c03b4aa3499c5328201f1"
   }
  }
 },
 "nbformat": 4,
 "nbformat_minor": 2
}
